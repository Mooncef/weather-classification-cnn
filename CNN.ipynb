{
  "cells": [
    {
      "cell_type": "code",
      "source": [
        "! nvidia-smi"
      ],
      "metadata": {
        "colab": {
          "base_uri": "https://localhost:8080/"
        },
        "id": "2N_j8Fs1cs8e",
        "outputId": "d44164ce-d192-4283-f27c-cae4fd9977f8"
      },
      "execution_count": null,
      "outputs": [
        {
          "output_type": "stream",
          "name": "stdout",
          "text": [
            "Tue Jun  4 12:01:27 2024       \n",
            "+---------------------------------------------------------------------------------------+\n",
            "| NVIDIA-SMI 535.104.05             Driver Version: 535.104.05   CUDA Version: 12.2     |\n",
            "|-----------------------------------------+----------------------+----------------------+\n",
            "| GPU  Name                 Persistence-M | Bus-Id        Disp.A | Volatile Uncorr. ECC |\n",
            "| Fan  Temp   Perf          Pwr:Usage/Cap |         Memory-Usage | GPU-Util  Compute M. |\n",
            "|                                         |                      |               MIG M. |\n",
            "|=========================================+======================+======================|\n",
            "|   0  Tesla T4                       Off | 00000000:00:04.0 Off |                    0 |\n",
            "| N/A   69C    P8              11W /  70W |      0MiB / 15360MiB |      0%      Default |\n",
            "|                                         |                      |                  N/A |\n",
            "+-----------------------------------------+----------------------+----------------------+\n",
            "                                                                                         \n",
            "+---------------------------------------------------------------------------------------+\n",
            "| Processes:                                                                            |\n",
            "|  GPU   GI   CI        PID   Type   Process name                            GPU Memory |\n",
            "|        ID   ID                                                             Usage      |\n",
            "|=======================================================================================|\n",
            "|  No running processes found                                                           |\n",
            "+---------------------------------------------------------------------------------------+\n"
          ]
        }
      ]
    },
    {
      "cell_type": "code",
      "execution_count": null,
      "metadata": {
        "id": "6C8FXSyjI7n4"
      },
      "outputs": [],
      "source": [
        "import os\n",
        "import numpy as np\n",
        "from PIL import Image\n",
        "import matplotlib.pyplot as plt\n",
        "\n",
        "dataset_dir = 'drive/MyDrive/JBNU/dataset'\n",
        "\n",
        "img_height = 224\n",
        "img_width = 224\n",
        "\n",
        "images = []\n",
        "labels = []\n",
        "class_names = []\n",
        "\n",
        "for class_name in os.listdir(dataset_dir):\n",
        "    class_dir = os.path.join(dataset_dir, class_name)\n",
        "    if os.path.isdir(class_dir):\n",
        "        class_names.append(class_name)\n",
        "        for img_name in os.listdir(class_dir):\n",
        "            img_path = os.path.join(class_dir, img_name)\n",
        "            try:\n",
        "                img = Image.open(img_path).resize((img_width, img_height)).convert('RGB')\n",
        "                images.append(img)\n",
        "                labels.append(class_name)\n",
        "            except Exception as e:\n",
        "                print(f\"Erreur lors du traitement de l'image {img_path}: {e}\")\n",
        "\n"
      ]
    },
    {
      "cell_type": "code",
      "execution_count": null,
      "metadata": {
        "colab": {
          "base_uri": "https://localhost:8080/"
        },
        "id": "n60ymcf3Fv6f",
        "outputId": "ef90cd8e-d4e8-44a6-a23e-019e3cd54127"
      },
      "outputs": [
        {
          "output_type": "stream",
          "name": "stdout",
          "text": [
            "Nombre d'images chargées: 6603\n",
            "Labels: 6603\n"
          ]
        }
      ],
      "source": [
        "\n",
        "images = np.array([np.array(img) for img in images])\n",
        "labels = np.array(labels)\n",
        "\n",
        "print(f\"Nombre d'images chargées: {len(images)}\")\n",
        "print(f\"Labels: {len(labels)}\")"
      ]
    },
    {
      "cell_type": "code",
      "execution_count": null,
      "metadata": {
        "colab": {
          "base_uri": "https://localhost:8080/"
        },
        "id": "KIISInoUOACn",
        "outputId": "5da7112c-078a-48ac-9973-d4ebe464c214"
      },
      "outputs": [
        {
          "output_type": "stream",
          "name": "stdout",
          "text": [
            "6603\n",
            "x_train shape: (5282, 224, 224, 3), y_train shape: (5282, 11)\n",
            "x_test shape: (1321, 224, 224, 3), y_test shape: (1321, 11)\n",
            "Class names: ['dew' 'fogsmog' 'frost' 'glaze' 'hail' 'lightning' 'rain' 'rainbow'\n",
            " 'rime' 'sandstorm' 'snow']\n"
          ]
        }
      ],
      "source": [
        "print(len(labels))\n",
        "label_binarizer = LabelBinarizer()\n",
        "y = label_binarizer.fit_transform(labels)\n",
        "\n",
        "x_train, x_test, y_train, y_test = train_test_split(images, y, test_size=0.2, random_state=123)\n",
        "\n",
        "print(f\"x_train shape: {x_train.shape}, y_train shape: {y_train.shape}\")\n",
        "print(f\"x_test shape: {x_test.shape}, y_test shape: {y_test.shape}\")\n",
        "print(f\"Class names: {label_binarizer.classes_}\")\n"
      ]
    },
    {
      "cell_type": "code",
      "execution_count": null,
      "metadata": {
        "colab": {
          "base_uri": "https://localhost:8080/"
        },
        "id": "6F4kpeMqPYLY",
        "outputId": "16b11834-184b-48a5-9c95-3b29d6c9a222"
      },
      "outputs": [
        {
          "output_type": "stream",
          "name": "stdout",
          "text": [
            "x_train shape: (5282, 224, 224, 3)\n",
            "y_train shape: (5282, 11)\n",
            "x_test shape: (1321, 224, 224, 3)\n",
            "y_test shape: (1321, 11)\n"
          ]
        }
      ],
      "source": [
        "\n",
        "x_train = x_train.astype('float32') / 255\n",
        "x_test = x_test.astype('float32') / 255\n",
        "\n",
        "print('x_train shape:', x_train.shape)\n",
        "print('y_train shape:', y_train.shape)\n",
        "print('x_test shape:', x_test.shape)\n",
        "print('y_test shape:', y_test.shape)"
      ]
    },
    {
      "cell_type": "code",
      "execution_count": null,
      "metadata": {
        "colab": {
          "base_uri": "https://localhost:8080/"
        },
        "id": "qvJ9NjB3Qngl",
        "outputId": "11d31ec4-42e4-4f38-b3ca-ff325c9cf401"
      },
      "outputs": [
        {
          "output_type": "stream",
          "name": "stdout",
          "text": [
            "Model: \"sequential\"\n",
            "_________________________________________________________________\n",
            " Layer (type)                Output Shape              Param #   \n",
            "=================================================================\n",
            " conv2d (Conv2D)             (None, 224, 224, 32)      896       \n",
            "                                                                 \n",
            " conv2d_1 (Conv2D)           (None, 224, 224, 32)      9248      \n",
            "                                                                 \n",
            " max_pooling2d (MaxPooling2  (None, 112, 112, 32)      0         \n",
            " D)                                                              \n",
            "                                                                 \n",
            " dropout (Dropout)           (None, 112, 112, 32)      0         \n",
            "                                                                 \n",
            " conv2d_2 (Conv2D)           (None, 112, 112, 64)      18496     \n",
            "                                                                 \n",
            " conv2d_3 (Conv2D)           (None, 112, 112, 64)      36928     \n",
            "                                                                 \n",
            " max_pooling2d_1 (MaxPoolin  (None, 56, 56, 64)        0         \n",
            " g2D)                                                            \n",
            "                                                                 \n",
            " dropout_1 (Dropout)         (None, 56, 56, 64)        0         \n",
            "                                                                 \n",
            " conv2d_4 (Conv2D)           (None, 56, 56, 128)       73856     \n",
            "                                                                 \n",
            " conv2d_5 (Conv2D)           (None, 56, 56, 128)       147584    \n",
            "                                                                 \n",
            " max_pooling2d_2 (MaxPoolin  (None, 28, 28, 128)       0         \n",
            " g2D)                                                            \n",
            "                                                                 \n",
            " dropout_2 (Dropout)         (None, 28, 28, 128)       0         \n",
            "                                                                 \n",
            " flatten (Flatten)           (None, 100352)            0         \n",
            "                                                                 \n",
            " dense (Dense)               (None, 128)               12845184  \n",
            "                                                                 \n",
            " dropout_3 (Dropout)         (None, 128)               0         \n",
            "                                                                 \n",
            " dense_1 (Dense)             (None, 11)                1419      \n",
            "                                                                 \n",
            "=================================================================\n",
            "Total params: 13133611 (50.10 MB)\n",
            "Trainable params: 13133611 (50.10 MB)\n",
            "Non-trainable params: 0 (0.00 Byte)\n",
            "_________________________________________________________________\n"
          ]
        },
        {
          "output_type": "stream",
          "name": "stderr",
          "text": [
            "WARNING:absl:`lr` is deprecated in Keras optimizer, please use `learning_rate` or use the legacy optimizer, e.g.,tf.keras.optimizers.legacy.Adam.\n"
          ]
        },
        {
          "output_type": "stream",
          "name": "stdout",
          "text": [
            "None\n"
          ]
        }
      ],
      "source": [
        "import keras\n",
        "\n",
        "epochs = 25\n",
        "batch_size = 64\n",
        "\n",
        "model = keras.models.Sequential([\n",
        "    keras.layers.Conv2D(32, (3, 3), activation='relu', kernel_initializer='he_uniform', padding='same', input_shape=(224, 224, 3)),\n",
        "    keras.layers.Conv2D(32, (3, 3), activation='relu', kernel_initializer='he_uniform', padding='same'),\n",
        "    keras.layers.MaxPooling2D((2, 2)),\n",
        "    keras.layers.Dropout(0.2),\n",
        "    keras.layers.Conv2D(64, (3, 3), activation='relu', kernel_initializer='he_uniform', padding='same'),\n",
        "    keras.layers.Conv2D(64, (3, 3), activation='relu', kernel_initializer='he_uniform', padding='same'),\n",
        "    keras.layers.MaxPooling2D((2, 2)),\n",
        "    keras.layers.Dropout(0.2),\n",
        "    keras.layers.Conv2D(128, (3, 3), activation='relu', kernel_initializer='he_uniform', padding='same'),\n",
        "    keras.layers.Conv2D(128, (3, 3), activation='relu', kernel_initializer='he_uniform', padding='same'),\n",
        "    keras.layers.MaxPooling2D((2, 2)),\n",
        "    keras.layers.Dropout(0.2),\n",
        "    keras.layers.Flatten(),\n",
        "    keras.layers.Dense(128, activation='relu', kernel_initializer='he_uniform'),\n",
        "    keras.layers.Dropout(0.2),\n",
        "    keras.layers.Dense(11, activation='softmax')\n",
        "])\n",
        "print(model.summary())\n",
        "\n",
        "opt = keras.optimizers.Adam(lr=0.001)\n",
        "model.compile(optimizer=opt, loss='categorical_crossentropy', metrics=['accuracy'])"
      ]
    },
    {
      "cell_type": "code",
      "execution_count": null,
      "metadata": {
        "colab": {
          "base_uri": "https://localhost:8080/"
        },
        "id": "2R2kK4OkRHgG",
        "outputId": "297e0cf2-9539-408e-bac8-7b61fbf72940"
      },
      "outputs": [
        {
          "output_type": "stream",
          "name": "stdout",
          "text": [
            "Epoch 1/25\n",
            "67/67 [==============================] - 48s 454ms/step - loss: 5.0462 - accuracy: 0.1754 - val_loss: 2.0064 - val_accuracy: 0.3198\n",
            "Epoch 2/25\n",
            "67/67 [==============================] - 24s 350ms/step - loss: 1.7668 - accuracy: 0.3905 - val_loss: 1.8640 - val_accuracy: 0.3548\n",
            "Epoch 3/25\n",
            "67/67 [==============================] - 23s 345ms/step - loss: 1.6673 - accuracy: 0.4488 - val_loss: 1.4394 - val_accuracy: 0.5279\n",
            "Epoch 4/25\n",
            "67/67 [==============================] - 23s 346ms/step - loss: 1.2698 - accuracy: 0.5943 - val_loss: 1.2370 - val_accuracy: 0.6112\n",
            "Epoch 5/25\n",
            "67/67 [==============================] - 23s 344ms/step - loss: 1.0914 - accuracy: 0.6469 - val_loss: 1.1885 - val_accuracy: 0.6112\n",
            "Epoch 6/25\n",
            "67/67 [==============================] - 23s 346ms/step - loss: 1.0063 - accuracy: 0.6734 - val_loss: 1.2286 - val_accuracy: 0.6036\n",
            "Epoch 7/25\n",
            "67/67 [==============================] - 23s 348ms/step - loss: 0.8558 - accuracy: 0.7226 - val_loss: 1.1992 - val_accuracy: 0.6206\n",
            "Epoch 8/25\n",
            "67/67 [==============================] - 24s 351ms/step - loss: 0.7630 - accuracy: 0.7505 - val_loss: 1.7669 - val_accuracy: 0.5033\n",
            "Epoch 9/25\n",
            "67/67 [==============================] - 23s 343ms/step - loss: 0.7646 - accuracy: 0.7453 - val_loss: 1.3289 - val_accuracy: 0.6187\n",
            "Epoch 10/25\n",
            "67/67 [==============================] - 23s 349ms/step - loss: 0.6139 - accuracy: 0.7969 - val_loss: 1.3812 - val_accuracy: 0.6547\n",
            "Epoch 11/25\n",
            "67/67 [==============================] - 23s 347ms/step - loss: 0.5292 - accuracy: 0.8267 - val_loss: 1.6823 - val_accuracy: 0.6263\n",
            "Epoch 12/25\n",
            "67/67 [==============================] - 23s 344ms/step - loss: 0.4931 - accuracy: 0.8364 - val_loss: 1.6285 - val_accuracy: 0.6254\n",
            "Epoch 13/25\n",
            "67/67 [==============================] - 23s 346ms/step - loss: 0.4456 - accuracy: 0.8476 - val_loss: 1.7882 - val_accuracy: 0.6064\n",
            "Epoch 14/25\n",
            "67/67 [==============================] - 23s 346ms/step - loss: 0.4140 - accuracy: 0.8637 - val_loss: 1.5623 - val_accuracy: 0.6424\n",
            "Epoch 15/25\n",
            "67/67 [==============================] - 23s 348ms/step - loss: 0.3367 - accuracy: 0.8916 - val_loss: 1.9042 - val_accuracy: 0.6102\n",
            "Epoch 16/25\n",
            "67/67 [==============================] - 23s 349ms/step - loss: 0.2821 - accuracy: 0.9065 - val_loss: 1.8386 - val_accuracy: 0.6329\n",
            "Epoch 17/25\n",
            "67/67 [==============================] - 23s 347ms/step - loss: 0.3212 - accuracy: 0.8883 - val_loss: 1.8147 - val_accuracy: 0.6291\n",
            "Epoch 18/25\n",
            "67/67 [==============================] - 23s 347ms/step - loss: 0.2789 - accuracy: 0.9086 - val_loss: 2.2049 - val_accuracy: 0.6291\n",
            "Epoch 19/25\n",
            "67/67 [==============================] - 24s 351ms/step - loss: 0.2519 - accuracy: 0.9148 - val_loss: 2.6671 - val_accuracy: 0.5487\n",
            "Epoch 20/25\n",
            "67/67 [==============================] - 23s 348ms/step - loss: 0.6889 - accuracy: 0.7837 - val_loss: 1.7592 - val_accuracy: 0.6348\n",
            "Epoch 21/25\n",
            "67/67 [==============================] - 23s 345ms/step - loss: 0.2915 - accuracy: 0.9089 - val_loss: 1.8873 - val_accuracy: 0.6339\n",
            "Epoch 22/25\n",
            "67/67 [==============================] - 23s 343ms/step - loss: 0.2589 - accuracy: 0.9146 - val_loss: 2.0530 - val_accuracy: 0.6358\n",
            "Epoch 23/25\n",
            "67/67 [==============================] - 23s 345ms/step - loss: 0.2196 - accuracy: 0.9299 - val_loss: 2.0682 - val_accuracy: 0.6339\n",
            "Epoch 24/25\n",
            "67/67 [==============================] - 23s 343ms/step - loss: 0.1935 - accuracy: 0.9382 - val_loss: 2.0115 - val_accuracy: 0.6481\n",
            "Epoch 25/25\n",
            "67/67 [==============================] - 23s 347ms/step - loss: 0.1800 - accuracy: 0.9441 - val_loss: 2.2584 - val_accuracy: 0.6244\n"
          ]
        }
      ],
      "source": [
        "images = []\n",
        "history = model.fit(x_train, y_train,\n",
        "                    epochs=epochs,\n",
        "                    batch_size= batch_size,\n",
        "                    validation_split=0.20\n",
        "                    )"
      ]
    },
    {
      "cell_type": "code",
      "execution_count": null,
      "metadata": {
        "id": "Jn1bhxxJ_-_o",
        "colab": {
          "base_uri": "https://localhost:8080/",
          "height": 449
        },
        "outputId": "092dd6b9-eda4-497d-aeed-5fb1943a9a24"
      },
      "outputs": [
        {
          "output_type": "display_data",
          "data": {
            "text/plain": [
              "<Figure size 640x480 with 1 Axes>"
            ],
            "image/png": "[encoded data removed]"
          },
          "metadata": {}
        }
      ],
      "source": [
        "plt.plot(history.history['loss'], label='training loss')\n",
        "plt.plot(history.history['val_loss'], label='validation loss')\n",
        "plt.xlabel('Epochs')\n",
        "plt.ylabel('Loss')\n",
        "plt.legend()\n",
        "plt.show()"
      ]
    },
    {
      "cell_type": "code",
      "execution_count": null,
      "metadata": {
        "id": "co2koWHiAA1W",
        "colab": {
          "base_uri": "https://localhost:8080/"
        },
        "outputId": "d5fe21ac-dd0f-4888-dc35-057704d398d9"
      },
      "outputs": [
        {
          "output_type": "stream",
          "name": "stdout",
          "text": [
            "42/42 - 4s - loss: 1.9986 - accuracy: 0.6329 - 4s/epoch - 97ms/step\n",
            "\n",
            "Test accuracy: 0.6328539252281189\n"
          ]
        }
      ],
      "source": [
        "x_train=[]\n",
        "y_train =[]\n",
        "test_loss, test_acc = model.evaluate(x_test, y_test, verbose=2)\n",
        "print('\\nTest accuracy:', test_acc)"
      ]
    }
  ],
  "metadata": {
    "colab": {
      "provenance": [],
      "gpuType": "T4"
    },
    "kernelspec": {
      "display_name": "Python 3",
      "name": "python3"
    },
    "language_info": {
      "name": "python"
    },
    "accelerator": "GPU"
  },
  "nbformat": 4,
  "nbformat_minor": 0
}