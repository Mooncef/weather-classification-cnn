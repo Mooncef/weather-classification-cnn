{
  "cells": [
    {
      "cell_type": "code",
      "source": [
        "import os\n",
        "import numpy as np\n",
        "from PIL import Image\n",
        "import matplotlib.pyplot as plt\n",
        "from sklearn.preprocessing import LabelBinarizer\n",
        "from sklearn.model_selection import train_test_split\n",
        "import keras\n",
        "from keras.layers import Conv2D, MaxPooling2D, Dropout, Flatten, Dense, Input, Add\n",
        "from keras.models import Model\n",
        "from keras.preprocessing.image import ImageDataGenerator"
      ],
      "metadata": {
        "id": "TXO3VCmnke2F"
      },
      "execution_count": 1,
      "outputs": []
    },
    {
      "cell_type": "code",
      "source": [
        "! nvidia-smi"
      ],
      "metadata": {
        "colab": {
          "base_uri": "https://localhost:8080/"
        },
        "id": "2N_j8Fs1cs8e",
        "outputId": "98f20680-d2ae-4e24-ce2e-3f58708568a9"
      },
      "execution_count": 2,
      "outputs": [
        {
          "output_type": "stream",
          "name": "stdout",
          "text": [
            "Thu Jun  6 08:32:29 2024       \n",
            "+---------------------------------------------------------------------------------------+\n",
            "| NVIDIA-SMI 535.104.05             Driver Version: 535.104.05   CUDA Version: 12.2     |\n",
            "|-----------------------------------------+----------------------+----------------------+\n",
            "| GPU  Name                 Persistence-M | Bus-Id        Disp.A | Volatile Uncorr. ECC |\n",
            "| Fan  Temp   Perf          Pwr:Usage/Cap |         Memory-Usage | GPU-Util  Compute M. |\n",
            "|                                         |                      |               MIG M. |\n",
            "|=========================================+======================+======================|\n",
            "|   0  Tesla T4                       Off | 00000000:00:04.0 Off |                    0 |\n",
            "| N/A   49C    P8              10W /  70W |      0MiB / 15360MiB |      0%      Default |\n",
            "|                                         |                      |                  N/A |\n",
            "+-----------------------------------------+----------------------+----------------------+\n",
            "                                                                                         \n",
            "+---------------------------------------------------------------------------------------+\n",
            "| Processes:                                                                            |\n",
            "|  GPU   GI   CI        PID   Type   Process name                            GPU Memory |\n",
            "|        ID   ID                                                             Usage      |\n",
            "|=======================================================================================|\n",
            "|  No running processes found                                                           |\n",
            "+---------------------------------------------------------------------------------------+\n"
          ]
        }
      ]
    },
    {
      "cell_type": "code",
      "execution_count": 3,
      "metadata": {
        "id": "6C8FXSyjI7n4"
      },
      "outputs": [],
      "source": [
        "dataset_dir = 'drive/MyDrive/JBNU/dataset'\n",
        "\n",
        "img_height = 224\n",
        "img_width = 224\n",
        "\n",
        "images = []\n",
        "labels = []\n",
        "class_names = []\n",
        "\n",
        "for class_name in os.listdir(dataset_dir):\n",
        "    class_dir = os.path.join(dataset_dir, class_name)\n",
        "    if os.path.isdir(class_dir):\n",
        "        class_names.append(class_name)\n",
        "        for img_name in os.listdir(class_dir):\n",
        "            img_path = os.path.join(class_dir, img_name)\n",
        "            try:\n",
        "                img = Image.open(img_path).resize((img_width, img_height)).convert('RGB')\n",
        "                images.append(img)\n",
        "                labels.append(class_name)\n",
        "            except Exception as e:\n",
        "                print(f\"Erreur lors du traitement de l'image {img_path}: {e}\")\n",
        "\n"
      ]
    },
    {
      "cell_type": "code",
      "execution_count": 4,
      "metadata": {
        "colab": {
          "base_uri": "https://localhost:8080/"
        },
        "id": "n60ymcf3Fv6f",
        "outputId": "f139f2f7-f90b-4e3a-d87f-625d643046dc"
      },
      "outputs": [
        {
          "output_type": "stream",
          "name": "stdout",
          "text": [
            "Nombre d'images chargées: 6603\n",
            "Labels: 6603\n"
          ]
        }
      ],
      "source": [
        "\n",
        "images = np.array([np.array(img) for img in images])\n",
        "labels = np.array(labels)\n",
        "\n",
        "print(f\"Nombre d'images chargées: {len(images)}\")\n",
        "print(f\"Labels: {len(labels)}\")"
      ]
    },
    {
      "cell_type": "code",
      "execution_count": 5,
      "metadata": {
        "colab": {
          "base_uri": "https://localhost:8080/"
        },
        "id": "KIISInoUOACn",
        "outputId": "15e42387-c59c-451e-a26c-786b062886aa"
      },
      "outputs": [
        {
          "output_type": "stream",
          "name": "stdout",
          "text": [
            "6603\n",
            "x_train shape: (5282, 224, 224, 3), y_train shape: (5282, 11)\n",
            "x_test shape: (1321, 224, 224, 3), y_test shape: (1321, 11)\n",
            "Class names: ['dew' 'fogsmog' 'frost' 'glaze' 'hail' 'lightning' 'rain' 'rainbow'\n",
            " 'rime' 'sandstorm' 'snow']\n"
          ]
        }
      ],
      "source": [
        "print(len(labels))\n",
        "label_binarizer = LabelBinarizer()\n",
        "y = label_binarizer.fit_transform(labels)\n",
        "\n",
        "x_train, x_test, y_train, y_test = train_test_split(images, y, test_size=0.2, random_state=123)\n",
        "\n",
        "print(f\"x_train shape: {x_train.shape}, y_train shape: {y_train.shape}\")\n",
        "print(f\"x_test shape: {x_test.shape}, y_test shape: {y_test.shape}\")\n",
        "print(f\"Class names: {label_binarizer.classes_}\")\n"
      ]
    },
    {
      "cell_type": "code",
      "execution_count": 6,
      "metadata": {
        "colab": {
          "base_uri": "https://localhost:8080/"
        },
        "id": "6F4kpeMqPYLY",
        "outputId": "bbe0fc3f-e5e5-42cf-c178-a605e3a2b8cd"
      },
      "outputs": [
        {
          "output_type": "stream",
          "name": "stdout",
          "text": [
            "x_train shape: (5282, 224, 224, 3)\n",
            "y_train shape: (5282, 11)\n",
            "x_test shape: (1321, 224, 224, 3)\n",
            "y_test shape: (1321, 11)\n"
          ]
        }
      ],
      "source": [
        "\n",
        "x_train = x_train.astype('float32') / 255\n",
        "x_test = x_test.astype('float32') / 255\n",
        "\n",
        "print('x_train shape:', x_train.shape)\n",
        "print('y_train shape:', y_train.shape)\n",
        "print('x_test shape:', x_test.shape)\n",
        "print('y_test shape:', y_test.shape)"
      ]
    },
    {
      "cell_type": "code",
      "source": [
        "epochs = 25\n",
        "batch_size = 64\n",
        "\n",
        "datagen = ImageDataGenerator(\n",
        "    rotation_range=20,\n",
        "    width_shift_range=0.2,\n",
        "    height_shift_range=0.2,\n",
        "    shear_range=0.2,\n",
        "    zoom_range=0.2,\n",
        "    horizontal_flip=True,\n",
        "    fill_mode='nearest'\n",
        ")\n",
        "train_generator = datagen.flow(x_train, y_train, batch_size=batch_size)"
      ],
      "metadata": {
        "id": "bD4aHEkPltH8"
      },
      "execution_count": 7,
      "outputs": []
    },
    {
      "cell_type": "code",
      "execution_count": 8,
      "metadata": {
        "colab": {
          "base_uri": "https://localhost:8080/"
        },
        "id": "qvJ9NjB3Qngl",
        "outputId": "977469f6-5775-477a-ca97-4a16429ae716"
      },
      "outputs": [
        {
          "output_type": "stream",
          "name": "stderr",
          "text": [
            "WARNING:absl:`lr` is deprecated in Keras optimizer, please use `learning_rate` or use the legacy optimizer, e.g.,tf.keras.optimizers.legacy.Adam.\n"
          ]
        },
        {
          "output_type": "stream",
          "name": "stdout",
          "text": [
            "Model: \"model\"\n",
            "__________________________________________________________________________________________________\n",
            " Layer (type)                Output Shape                 Param #   Connected to                  \n",
            "==================================================================================================\n",
            " input_1 (InputLayer)        [(None, 224, 224, 3)]        0         []                            \n",
            "                                                                                                  \n",
            " conv2d (Conv2D)             (None, 224, 224, 32)         896       ['input_1[0][0]']             \n",
            "                                                                                                  \n",
            " conv2d_1 (Conv2D)           (None, 224, 224, 32)         9248      ['conv2d[0][0]']              \n",
            "                                                                                                  \n",
            " conv2d_2 (Conv2D)           (None, 224, 224, 32)         9248      ['conv2d_1[0][0]']            \n",
            "                                                                                                  \n",
            " add (Add)                   (None, 224, 224, 32)         0         ['conv2d_2[0][0]',            \n",
            "                                                                     'conv2d[0][0]']              \n",
            "                                                                                                  \n",
            " activation (Activation)     (None, 224, 224, 32)         0         ['add[0][0]']                 \n",
            "                                                                                                  \n",
            " max_pooling2d (MaxPooling2  (None, 112, 112, 32)         0         ['activation[0][0]']          \n",
            " D)                                                                                               \n",
            "                                                                                                  \n",
            " dropout (Dropout)           (None, 112, 112, 32)         0         ['max_pooling2d[0][0]']       \n",
            "                                                                                                  \n",
            " conv2d_3 (Conv2D)           (None, 112, 112, 64)         18496     ['dropout[0][0]']             \n",
            "                                                                                                  \n",
            " conv2d_4 (Conv2D)           (None, 112, 112, 64)         36928     ['conv2d_3[0][0]']            \n",
            "                                                                                                  \n",
            " conv2d_5 (Conv2D)           (None, 112, 112, 64)         36928     ['conv2d_4[0][0]']            \n",
            "                                                                                                  \n",
            " add_1 (Add)                 (None, 112, 112, 64)         0         ['conv2d_5[0][0]',            \n",
            "                                                                     'conv2d_3[0][0]']            \n",
            "                                                                                                  \n",
            " activation_1 (Activation)   (None, 112, 112, 64)         0         ['add_1[0][0]']               \n",
            "                                                                                                  \n",
            " max_pooling2d_1 (MaxPoolin  (None, 56, 56, 64)           0         ['activation_1[0][0]']        \n",
            " g2D)                                                                                             \n",
            "                                                                                                  \n",
            " dropout_1 (Dropout)         (None, 56, 56, 64)           0         ['max_pooling2d_1[0][0]']     \n",
            "                                                                                                  \n",
            " conv2d_6 (Conv2D)           (None, 56, 56, 128)          73856     ['dropout_1[0][0]']           \n",
            "                                                                                                  \n",
            " conv2d_7 (Conv2D)           (None, 56, 56, 128)          147584    ['conv2d_6[0][0]']            \n",
            "                                                                                                  \n",
            " conv2d_8 (Conv2D)           (None, 56, 56, 128)          147584    ['conv2d_7[0][0]']            \n",
            "                                                                                                  \n",
            " add_2 (Add)                 (None, 56, 56, 128)          0         ['conv2d_8[0][0]',            \n",
            "                                                                     'conv2d_6[0][0]']            \n",
            "                                                                                                  \n",
            " activation_2 (Activation)   (None, 56, 56, 128)          0         ['add_2[0][0]']               \n",
            "                                                                                                  \n",
            " max_pooling2d_2 (MaxPoolin  (None, 28, 28, 128)          0         ['activation_2[0][0]']        \n",
            " g2D)                                                                                             \n",
            "                                                                                                  \n",
            " dropout_2 (Dropout)         (None, 28, 28, 128)          0         ['max_pooling2d_2[0][0]']     \n",
            "                                                                                                  \n",
            " flatten (Flatten)           (None, 100352)               0         ['dropout_2[0][0]']           \n",
            "                                                                                                  \n",
            " dense (Dense)               (None, 128)                  1284518   ['flatten[0][0]']             \n",
            "                                                          4                                       \n",
            "                                                                                                  \n",
            " dropout_3 (Dropout)         (None, 128)                  0         ['dense[0][0]']               \n",
            "                                                                                                  \n",
            " dense_1 (Dense)             (None, 11)                   1419      ['dropout_3[0][0]']           \n",
            "                                                                                                  \n",
            "==================================================================================================\n",
            "Total params: 13327371 (50.84 MB)\n",
            "Trainable params: 13327371 (50.84 MB)\n",
            "Non-trainable params: 0 (0.00 Byte)\n",
            "__________________________________________________________________________________________________\n",
            "None\n"
          ]
        }
      ],
      "source": [
        "def residual_block(x, filters):\n",
        "    shortcut = x\n",
        "    x = Conv2D(filters, (3, 3), padding='same', activation='relu', kernel_initializer='he_uniform')(x)\n",
        "    x = Conv2D(filters, (3, 3), padding='same', activation=None, kernel_initializer='he_uniform')(x)\n",
        "    x = Add()([x, shortcut])\n",
        "    x = keras.layers.Activation('relu')(x)\n",
        "    return x\n",
        "\n",
        "input_tensor = Input(shape=(224, 224, 3))\n",
        "x = Conv2D(32, (3, 3), activation='relu', kernel_initializer='he_uniform', padding='same')(input_tensor)\n",
        "x = residual_block(x, 32)\n",
        "x = MaxPooling2D((2, 2))(x)\n",
        "x = Dropout(0.2)(x)\n",
        "\n",
        "x = Conv2D(64, (3, 3), activation='relu', kernel_initializer='he_uniform', padding='same')(x)\n",
        "x = residual_block(x, 64)\n",
        "x = MaxPooling2D((2, 2))(x)\n",
        "x = Dropout(0.2)(x)\n",
        "\n",
        "x = Conv2D(128, (3, 3), activation='relu', kernel_initializer='he_uniform', padding='same')(x)\n",
        "x = residual_block(x, 128)\n",
        "x = MaxPooling2D((2, 2))(x)\n",
        "x = Dropout(0.2)(x)\n",
        "\n",
        "x = Flatten()(x)\n",
        "x = Dense(128, activation='relu', kernel_initializer='he_uniform')(x)\n",
        "x = Dropout(0.2)(x)\n",
        "output_tensor = Dense(11, activation='softmax')(x)\n",
        "\n",
        "model = Model(inputs=input_tensor, outputs=output_tensor)\n",
        "\n",
        "opt = keras.optimizers.Adam(lr=0.001)\n",
        "model.compile(optimizer=opt, loss='categorical_crossentropy', metrics=['accuracy'])\n",
        "print(model.summary())"
      ]
    },
    {
      "cell_type": "code",
      "execution_count": 9,
      "metadata": {
        "colab": {
          "base_uri": "https://localhost:8080/"
        },
        "id": "2R2kK4OkRHgG",
        "outputId": "7d994dbd-261a-407b-b6e0-e407c2cae501"
      },
      "outputs": [
        {
          "output_type": "stream",
          "name": "stdout",
          "text": [
            "Epoch 1/25\n",
            "82/82 [==============================] - 120s 1s/step - loss: 6.7915 - accuracy: 0.1646 - val_loss: 2.2409 - val_accuracy: 0.2256\n",
            "Epoch 2/25\n",
            "82/82 [==============================] - 82s 988ms/step - loss: 2.0112 - accuracy: 0.3191 - val_loss: 1.7640 - val_accuracy: 0.3982\n",
            "Epoch 3/25\n",
            "82/82 [==============================] - 83s 1s/step - loss: 1.6964 - accuracy: 0.4247 - val_loss: 1.4441 - val_accuracy: 0.5238\n",
            "Epoch 4/25\n",
            "82/82 [==============================] - 80s 973ms/step - loss: 1.4986 - accuracy: 0.4918 - val_loss: 1.3406 - val_accuracy: 0.5564\n",
            "Epoch 5/25\n",
            "82/82 [==============================] - 81s 985ms/step - loss: 1.4199 - accuracy: 0.5222 - val_loss: 1.2569 - val_accuracy: 0.6003\n",
            "Epoch 6/25\n",
            "82/82 [==============================] - 83s 1s/step - loss: 1.3278 - accuracy: 0.5431 - val_loss: 1.1983 - val_accuracy: 0.6132\n",
            "Epoch 7/25\n",
            "82/82 [==============================] - 88s 1s/step - loss: 1.2325 - accuracy: 0.5839 - val_loss: 1.1385 - val_accuracy: 0.6094\n",
            "Epoch 8/25\n",
            "82/82 [==============================] - 81s 986ms/step - loss: 1.1773 - accuracy: 0.5920 - val_loss: 1.2100 - val_accuracy: 0.5836\n",
            "Epoch 9/25\n",
            "82/82 [==============================] - 81s 984ms/step - loss: 1.1749 - accuracy: 0.5924 - val_loss: 1.0766 - val_accuracy: 0.6276\n",
            "Epoch 10/25\n",
            "82/82 [==============================] - 83s 999ms/step - loss: 1.1355 - accuracy: 0.6085 - val_loss: 1.0772 - val_accuracy: 0.6298\n",
            "Epoch 11/25\n",
            "82/82 [==============================] - 81s 987ms/step - loss: 1.1212 - accuracy: 0.6158 - val_loss: 1.0410 - val_accuracy: 0.6578\n",
            "Epoch 12/25\n",
            "82/82 [==============================] - 83s 1s/step - loss: 1.0962 - accuracy: 0.6280 - val_loss: 1.0270 - val_accuracy: 0.6435\n",
            "Epoch 13/25\n",
            "82/82 [==============================] - 83s 1s/step - loss: 1.0865 - accuracy: 0.6234 - val_loss: 1.0235 - val_accuracy: 0.6631\n",
            "Epoch 14/25\n",
            "82/82 [==============================] - 80s 968ms/step - loss: 1.0703 - accuracy: 0.6361 - val_loss: 1.0113 - val_accuracy: 0.6646\n",
            "Epoch 15/25\n",
            "82/82 [==============================] - 83s 1s/step - loss: 1.0379 - accuracy: 0.6449 - val_loss: 1.0002 - val_accuracy: 0.6715\n",
            "Epoch 16/25\n",
            "82/82 [==============================] - 84s 1s/step - loss: 0.9976 - accuracy: 0.6700 - val_loss: 0.9734 - val_accuracy: 0.6798\n",
            "Epoch 17/25\n",
            "82/82 [==============================] - 81s 984ms/step - loss: 1.0278 - accuracy: 0.6470 - val_loss: 0.9733 - val_accuracy: 0.6646\n",
            "Epoch 18/25\n",
            "82/82 [==============================] - 83s 1000ms/step - loss: 0.9861 - accuracy: 0.6614 - val_loss: 1.0129 - val_accuracy: 0.6495\n",
            "Epoch 19/25\n",
            "82/82 [==============================] - 83s 1s/step - loss: 0.9811 - accuracy: 0.6673 - val_loss: 0.9203 - val_accuracy: 0.6783\n",
            "Epoch 20/25\n",
            "82/82 [==============================] - 83s 1s/step - loss: 0.9461 - accuracy: 0.6847 - val_loss: 0.9173 - val_accuracy: 0.6957\n",
            "Epoch 21/25\n",
            "82/82 [==============================] - 82s 994ms/step - loss: 0.9259 - accuracy: 0.6777 - val_loss: 0.8575 - val_accuracy: 0.7161\n",
            "Epoch 22/25\n",
            "82/82 [==============================] - 82s 999ms/step - loss: 0.9350 - accuracy: 0.6729 - val_loss: 0.8435 - val_accuracy: 0.7260\n",
            "Epoch 23/25\n",
            "82/82 [==============================] - 81s 981ms/step - loss: 0.8744 - accuracy: 0.7060 - val_loss: 0.8361 - val_accuracy: 0.7184\n",
            "Epoch 24/25\n",
            "82/82 [==============================] - 81s 988ms/step - loss: 0.8785 - accuracy: 0.6989 - val_loss: 0.7946 - val_accuracy: 0.7456\n",
            "Epoch 25/25\n",
            "82/82 [==============================] - 82s 1000ms/step - loss: 0.8948 - accuracy: 0.6895 - val_loss: 0.8746 - val_accuracy: 0.7086\n"
          ]
        }
      ],
      "source": [
        "images = []\n",
        "history = model.fit(train_generator,\n",
        "                    steps_per_epoch=len(x_train) // batch_size,\n",
        "                    epochs=epochs,\n",
        "                    validation_data=(x_test, y_test)\n",
        "                   )"
      ]
    },
    {
      "cell_type": "code",
      "execution_count": 10,
      "metadata": {
        "id": "Jn1bhxxJ_-_o",
        "colab": {
          "base_uri": "https://localhost:8080/",
          "height": 450
        },
        "outputId": "55137124-786d-4c33-d713-1dff265c2f23"
      },
      "outputs": [
        {
          "output_type": "display_data",
          "data": {
            "text/plain": [
              "<Figure size 640x480 with 1 Axes>"
            ],
            "image/png": "[encoded data removed]"
          },
          "metadata": {}
        }
      ],
      "source": [
        "plt.plot(history.history['loss'], label='training loss')\n",
        "plt.plot(history.history['val_loss'], label='validation loss')\n",
        "plt.xlabel('Epochs')\n",
        "plt.ylabel('Loss')\n",
        "plt.legend()\n",
        "plt.show()"
      ]
    },
    {
      "cell_type": "code",
      "execution_count": 11,
      "metadata": {
        "id": "co2koWHiAA1W",
        "colab": {
          "base_uri": "https://localhost:8080/"
        },
        "outputId": "59243de4-5213-45e5-9444-8e4661a32a53"
      },
      "outputs": [
        {
          "output_type": "stream",
          "name": "stdout",
          "text": [
            "42/42 - 2s - loss: 0.8746 - accuracy: 0.7086 - 2s/epoch - 57ms/step\n",
            "\n",
            "Test accuracy: 0.7085541486740112\n"
          ]
        }
      ],
      "source": [
        "x_train=[]\n",
        "y_train =[]\n",
        "test_loss, test_acc = model.evaluate(x_test, y_test, verbose=2)\n",
        "print('\\nTest accuracy:', test_acc)"
      ]
    }
  ],
  "metadata": {
    "colab": {
      "provenance": [],
      "gpuType": "T4"
    },
    "kernelspec": {
      "display_name": "Python 3",
      "name": "python3"
    },
    "language_info": {
      "name": "python"
    },
    "accelerator": "GPU"
  },
  "nbformat": 4,
  "nbformat_minor": 0
}